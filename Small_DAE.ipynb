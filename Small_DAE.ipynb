{
 "cells": [
  {
   "cell_type": "markdown",
   "metadata": {},
   "source": [
    "# Small DAE Simulation\n",
    "\n",
    "Simulate the following ODE in the domain $t\\in[0,2]$:\n",
    "\n",
    "$$ \\frac{dz}{dt} = z^2 - 2z + 1 $$\n",
    "\n",
    "with the initial condition, $z(0)=-3$. Use any collocation method. Compare the result with the analytical solution:\n",
    "\n",
    "$$ z(t) = \\frac{4t-3}{4t+1}$$"
   ]
  },
  {
   "cell_type": "code",
   "execution_count": 1,
   "metadata": {},
   "outputs": [],
   "source": [
    "import pyomo.environ as pyo\n",
    "from pyomo.dae import DerivativeVar, ContinuousSet\n",
    "import matplotlib.pyplot as plt"
   ]
  },
  {
   "cell_type": "code",
   "execution_count": 2,
   "metadata": {},
   "outputs": [
    {
     "name": "stdout",
     "output_type": "stream",
     "text": [
      "WARNING: The current pynumero_ASL library is version=3, but found version=1.\n",
      "Please recompile / update your pynumero_ASL library.\n",
      "\n",
      "******************************************************************************\n",
      "This program contains Ipopt, a library for large-scale nonlinear optimization.\n",
      " Ipopt is released as open source code under the Eclipse Public License (EPL).\n",
      "         For more information visit https://github.com/coin-or/Ipopt\n",
      "******************************************************************************\n",
      "\n",
      "This is Ipopt version 3.13.3, running with linear solver mumps.\n",
      "NOTE: Other linear solvers might be more efficient (see Ipopt documentation).\n",
      "\n",
      "Number of nonzeros in equality constraint Jacobian...:       87\n",
      "Number of nonzeros in inequality constraint Jacobian.:        0\n",
      "Number of nonzeros in Lagrangian Hessian.............:       13\n",
      "\n",
      "Total number of variables............................:       26\n",
      "                     variables with only lower bounds:        0\n",
      "                variables with lower and upper bounds:        0\n",
      "                     variables with only upper bounds:        0\n",
      "Total number of equality constraints.................:       26\n",
      "Total number of inequality constraints...............:        0\n",
      "        inequality constraints with only lower bounds:        0\n",
      "   inequality constraints with lower and upper bounds:        0\n",
      "        inequality constraints with only upper bounds:        0\n",
      "\n",
      "iter    objective    inf_pr   inf_du lg(mu)  ||d||  lg(rg) alpha_du alpha_pr  ls\n",
      "   0  1.0000000e+00 3.00e+00 0.00e+00  -1.0 0.00e+00    -  0.00e+00 0.00e+00   0\n",
      "   1  1.0000000e+00 2.29e+00 0.00e+00  -1.0 7.00e+00    -  1.00e+00 1.00e+00H  1\n",
      "   2  1.0000000e+00 1.92e-01 0.00e+00  -1.0 1.53e+00    -  1.00e+00 1.00e+00h  1\n",
      "   3  1.0000000e+00 2.37e-03 0.00e+00  -2.5 1.02e-01    -  1.00e+00 1.00e+00h  1\n",
      "   4  1.0000000e+00 7.92e-07 0.00e+00  -3.8 1.37e-03    -  1.00e+00 1.00e+00h  1\n",
      "   5  1.0000000e+00 2.09e-13 0.00e+00  -8.6 4.86e-07    -  1.00e+00 1.00e+00h  1\n",
      "\n",
      "Number of Iterations....: 5\n",
      "\n",
      "                                   (scaled)                 (unscaled)\n",
      "Objective...............:   1.0000000000000000e+00    1.0000000000000000e+00\n",
      "Dual infeasibility......:   0.0000000000000000e+00    0.0000000000000000e+00\n",
      "Constraint violation....:   2.0916601783937949e-13    2.0916601783937949e-13\n",
      "Complementarity.........:   0.0000000000000000e+00    0.0000000000000000e+00\n",
      "Overall NLP error.......:   2.0916601783937949e-13    2.0916601783937949e-13\n",
      "\n",
      "\n",
      "Number of objective function evaluations             = 7\n",
      "Number of objective gradient evaluations             = 6\n",
      "Number of equality constraint evaluations            = 7\n",
      "Number of inequality constraint evaluations          = 0\n",
      "Number of equality constraint Jacobian evaluations   = 6\n",
      "Number of inequality constraint Jacobian evaluations = 0\n",
      "Number of Lagrangian Hessian evaluations             = 5\n",
      "Total CPU secs in IPOPT (w/o function evaluations)   =      0.012\n",
      "Total CPU secs in NLP function evaluations           =      0.007\n",
      "\n",
      "EXIT: Optimal Solution Found.\n"
     ]
    },
    {
     "data": {
      "image/png": "[encoded data removed]",
      "text/plain": [
       "<Figure size 432x288 with 1 Axes>"
      ]
     },
     "metadata": {
      "needs_background": "light"
     },
     "output_type": "display_data"
    }
   ],
   "source": [
    "model = m = pyo.ConcreteModel()\n",
    "\n",
    "m.t = ContinuousSet(bounds=(0,2))\n",
    "\n",
    "m.z = pyo.Var(m.t)\n",
    "m.dzdt = DerivativeVar(m.z)\n",
    "\n",
    "m.obj = pyo.Objective(expr=1) # Dummy Objective\n",
    "\n",
    "def _zdot(m, i):\n",
    "    return m.dzdt[i] == m.z[i]**2 - 2*m.z[i] +1\n",
    "m.zdot = pyo.Constraint(m.t,rule=_zdot)\n",
    "\n",
    "def _init_con(m):\n",
    "    return m.z[0] == -3\n",
    "m.init_con = pyo.Constraint(rule=_init_con)\n",
    "\n",
    "# Discretize using backward finite difference\n",
    "#discretizer = pyo.TransformationFactory('dae.finite_difference')\n",
    "#discretizer.apply_to(m, nfe=50, scheme='BACKWARD')\n",
    "\n",
    "# Discretize using collocation\n",
    "discretizer = pyo.TransformationFactory('dae.collocation')\n",
    "discretizer.apply_to(m, nfe=4, ncp=3 , scheme='LAGRANGE-RADAU')\n",
    "\n",
    "\n",
    "solver = pyo.SolverFactory('cyipopt')\n",
    "solver.solve(m,tee=True)\n",
    "\n",
    "analytical_t = [0.01*i for i in range(0,201)]\n",
    "analytical_z = [(4*t-3)/(4*t+1) for t in analytical_t]\n",
    "\n",
    "findiff_t = list(m.t)\n",
    "findiff_z = [pyo.value(m.z[i]) for i in m.t]\n",
    "\n",
    "plt.plot(analytical_t,analytical_z,'b',label='analytical solution')\n",
    "plt.plot(findiff_t,findiff_z,'ro--',label='pyomo.dae discretization solution')\n",
    "plt.legend(loc='best')\n",
    "plt.xlabel('t')\n",
    "plt.show()"
   ]
  },
  {
   "cell_type": "code",
   "execution_count": null,
   "metadata": {},
   "outputs": [],
   "source": []
  }
 ],
 "metadata": {
  "kernelspec": {
   "display_name": "Python 3",
   "language": "python",
   "name": "python3"
  },
  "language_info": {
   "codemirror_mode": {
    "name": "ipython",
    "version": 3
   },
   "file_extension": ".py",
   "mimetype": "text/x-python",
   "name": "python",
   "nbconvert_exporter": "python",
   "pygments_lexer": "ipython3",
   "version": "3.8.3"
  }
 },
 "nbformat": 4,
 "nbformat_minor": 4
}
