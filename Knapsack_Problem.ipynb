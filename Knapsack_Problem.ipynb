{
 "cells": [
  {
   "cell_type": "markdown",
   "metadata": {},
   "source": [
    "# Assignment Problem: 0-1 Knapsack"
   ]
  },
  {
   "cell_type": "code",
   "execution_count": 1,
   "metadata": {},
   "outputs": [],
   "source": [
    "from pyomo.environ import *\n",
    "import numpy as np"
   ]
  },
  {
   "cell_type": "markdown",
   "metadata": {},
   "source": [
    "Given a set of $N=6$ items with their *weights* $w_i$ kg and *values* $v_i$ pesos as follows:\n",
    "\n",
    "|         | Weight | Value |\n",
    "| ------- | ------ | ----- |\n",
    "| Item 1  | 5      | 8     |\n",
    "| Item 2  | 7      | 3     |\n",
    "| Item 3  | 4      | 6     |\n",
    "| Item 4  | 3      | 11    |\n",
    "| Item 5  | 2      | 4     |\n",
    "| Item 6  | 4      | 5     |\n",
    "\n",
    "\n",
    "Find a subset of the items with the maximum total value that can fit in a bag with a maximum capacity of $W_{max}=14$."
   ]
  },
  {
   "cell_type": "code",
   "execution_count": 3,
   "metadata": {},
   "outputs": [
    {
     "name": "stdout",
     "output_type": "stream",
     "text": [
      "Model knapsack\n",
      "\n",
      "  Variables:\n",
      "    x : Size=6, Index=[1:6]\n",
      "        Key : Lower : Value : Upper : Fixed : Stale : Domain\n",
      "          1 :     0 :   1.0 :     1 : False : False : Binary\n",
      "          2 :     0 :   0.0 :     1 : False : False : Binary\n",
      "          3 :     0 :   1.0 :     1 : False : False : Binary\n",
      "          4 :     0 :   1.0 :     1 : False : False : Binary\n",
      "          5 :     0 :   1.0 :     1 : False : False : Binary\n",
      "          6 :     0 :   0.0 :     1 : False : False : Binary\n",
      "\n",
      "  Objectives:\n",
      "    obj : Size=1, Index=None, Active=True\n",
      "        Key  : Active : Value\n",
      "        None :   True :  29.0\n",
      "\n",
      "  Constraints:\n",
      "    cap : Size=1\n",
      "        Key  : Lower : Body : Upper\n",
      "        None :  None : 14.0 :  14.0\n",
      "x : Size=6, Index=[1:6]\n",
      "    Key : Lower : Value : Upper : Fixed : Stale : Domain\n",
      "      1 :     0 :   1.0 :     1 : False : False : Binary\n",
      "      2 :     0 :   0.0 :     1 : False : False : Binary\n",
      "      3 :     0 :   1.0 :     1 : False : False : Binary\n",
      "      4 :     0 :   1.0 :     1 : False : False : Binary\n",
      "      5 :     0 :   1.0 :     1 : False : False : Binary\n",
      "      6 :     0 :   0.0 :     1 : False : False : Binary\n",
      "# ==========================================================\n",
      "# = Solver Results                                         =\n",
      "# ==========================================================\n",
      "# ----------------------------------------------------------\n",
      "#   Problem Information\n",
      "# ----------------------------------------------------------\n",
      "Problem: \n",
      "- Name: unknown\n",
      "  Lower bound: 29.0\n",
      "  Upper bound: 29.0\n",
      "  Number of objectives: 1\n",
      "  Number of constraints: 1\n",
      "  Number of variables: 6\n",
      "  Number of nonzeros: 6\n",
      "  Sense: maximize\n",
      "# ----------------------------------------------------------\n",
      "#   Solver Information\n",
      "# ----------------------------------------------------------\n",
      "Solver: \n",
      "- Status: ok\n",
      "  Termination condition: optimal\n",
      "  Statistics: \n",
      "    Branch and bound: \n",
      "      Number of bounded subproblems: 1\n",
      "      Number of created subproblems: 1\n",
      "  Error rc: 0\n",
      "  Time: 0.3439521789550781\n",
      "# ----------------------------------------------------------\n",
      "#   Solution Information\n",
      "# ----------------------------------------------------------\n",
      "Solution: \n",
      "- number of solutions: 0\n",
      "  number of solutions displayed: 0\n"
     ]
    }
   ],
   "source": [
    "# Create the model object\n",
    "\n",
    "def create_Assignment_mdl(N, W, V, Wmax):\n",
    "    # N    = set of items\n",
    "    # W    = vector of weights\n",
    "    # V    = vector of values\n",
    "    # Wmax = maximum capacity\n",
    "    \n",
    "    model = ConcreteModel(name=\"knapsack\")\n",
    "\n",
    "    # Declare decision variables and parameters\n",
    "    model.x = Var(N, domain=Binary)\n",
    "    model.w = Param(N, initialize=lambda mdl, i: W[i-1])\n",
    "    model.v = Param(N, initialize=lambda mdl, i: V[i-1])\n",
    "    \n",
    "    def obj_rule(mdl):\n",
    "        return sum(mdl.x[i]*mdl.v[i] for i in N)\n",
    "    \n",
    "    def capacity_rule(mdl):\n",
    "        return sum(mdl.x[i]*mdl.w[i] for i in N) <= Wmax\n",
    "    \n",
    "    model.obj = Objective(rule=obj_rule, sense=maximize)\n",
    "    model.cap = Constraint(rule=capacity_rule)\n",
    "    \n",
    "    return model\n",
    "\n",
    "# Specify the data\n",
    "N = RangeSet(6)\n",
    "W = [5, 7, 4, 3, 2, 4]\n",
    "V = [8, 3, 6, 11, 4, 5]\n",
    "Wmax = 14\n",
    "\n",
    "# Solve the model\n",
    "model = create_Assignment_mdl(N, W, V, Wmax)\n",
    "solver = SolverFactory(\"glpk\") \n",
    "res = solver.solve(model)\n",
    "model.display() \n",
    "model.x.pprint()\n",
    "res.write()"
   ]
  },
  {
   "cell_type": "code",
   "execution_count": null,
   "metadata": {},
   "outputs": [],
   "source": []
  }
 ],
 "metadata": {
  "kernelspec": {
   "display_name": "Python 3",
   "language": "python",
   "name": "python3"
  },
  "language_info": {
   "codemirror_mode": {
    "name": "ipython",
    "version": 3
   },
   "file_extension": ".py",
   "mimetype": "text/x-python",
   "name": "python",
   "nbconvert_exporter": "python",
   "pygments_lexer": "ipython3",
   "version": "3.8.3"
  }
 },
 "nbformat": 4,
 "nbformat_minor": 4
}
